{
 "cells": [
  {
   "metadata": {},
   "cell_type": "markdown",
   "source": [
    "## Power Grid Analysis\n",
    "\n",
    "For our AIPI 510 Data Storytelling project, we intend to use the EIA.gov EIA-930 Data. This shows the generation and energy consumption for the electrical powergrid in the United States."
   ],
   "id": "e4a4262b82d9e345"
  },
  {
   "metadata": {},
   "cell_type": "markdown",
   "source": "## Load the Data",
   "id": "782376888c6c1cb6"
  },
  {
   "metadata": {},
   "cell_type": "code",
   "source": [
    "import urllib.request\n",
    "from pathlib import Path\n",
    "import pandas as pd\n",
    "import os\n",
    "\n",
    "path = Path()\n",
    "\n",
    "files = {\n",
    "    \"EIA930_BALANCE_2025_Jan_Jun.csv\": \"https://www.eia.gov/electricity/gridmonitor/sixMonthFiles/EIA930_BALANCE_2025_Jan_Jun.csv\"\n",
    "}\n",
    "\n",
    "# Download each file\n",
    "for key, value in files.items():\n",
    "    filename = path / key\n",
    "    url = value\n",
    "    # If the file does not already exist in the directory, download it\n",
    "    if not os.path.exists(filename):\n",
    "        urllib.request.urlretrieve(url, filename)"
   ],
   "id": "fab49266ef12342",
   "outputs": [],
   "execution_count": null
  },
  {
   "metadata": {},
   "cell_type": "markdown",
   "source": [
    "## Read Data\n",
    "\n",
    "Our first step is to understand the data and read the rows and columns that exist. We need to explore and understand what all of the columns actually mean before we can work with the data."
   ],
   "id": "cc8d7134fdb1c240"
  },
  {
   "metadata": {},
   "cell_type": "code",
   "source": [
    "filename = \"EIA930_BALANCE_2025_Jan_Jun.csv\"\n",
    "df = pd.read_csv(filename)\n",
    "print(df.columns)\n",
    "\n",
    "df.head(10)"
   ],
   "id": "edddadc95de9a6c8",
   "outputs": [],
   "execution_count": null
  },
  {
   "metadata": {},
   "cell_type": "markdown",
   "source": [
    "## Understanding the data\n",
    "\n",
    "At first, there appear to be a lot of columns. If we look at the first ten, we can see that there are a lot of NaN values. However, the reason is because this is for only one balancing authority. Each balancing authority uses different types of power generation to meet demand. We're only seeing the first ten hours from the AECI balancing authority. It would be illogical to assume that one authority could have *every* type of power generation. If we look at another balancing authority, we can see the missing values are different. Below is the AVA balancing authority. You can see that they generate power with solar, whereas AECI does not. The key takeaway is that different balancing authorities have different ways of generating power."
   ],
   "id": "663750c491c90b96"
  },
  {
   "metadata": {},
   "cell_type": "code",
   "source": "print(df.iloc[4345:4355])",
   "id": "463ac664fbbbeba2",
   "outputs": [],
   "execution_count": null
  },
  {
   "metadata": {},
   "cell_type": "markdown",
   "source": [
    "## Explaining the meaning of our columns\n",
    "\n",
    "Data generation what BAs mean, Biases, Explain Demand vs Generation, time series data and it is hourly, difference between Demand imputed and adjusted, explain interchange. Go through each energy source and put it on a list. Drop and Impute and explain why."
   ],
   "id": "6b05212caa359a81"
  }
 ],
 "metadata": {
  "kernelspec": {
   "display_name": "Python 3",
   "language": "python",
   "name": "python3"
  },
  "language_info": {
   "codemirror_mode": {
    "name": "ipython",
    "version": 2
   },
   "file_extension": ".py",
   "mimetype": "text/x-python",
   "name": "python",
   "nbconvert_exporter": "python",
   "pygments_lexer": "ipython2",
   "version": "2.7.6"
  }
 },
 "nbformat": 4,
 "nbformat_minor": 5
}
